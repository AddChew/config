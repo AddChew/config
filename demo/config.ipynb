{
 "cells": [
  {
   "cell_type": "code",
   "execution_count": 1,
   "metadata": {},
   "outputs": [],
   "source": [
    "import sys\n",
    "\n",
    "sys.path.append('../src')"
   ]
  },
  {
   "cell_type": "code",
   "execution_count": 2,
   "metadata": {},
   "outputs": [],
   "source": [
    "def check_cml_env():\n",
    "    return 'PREPROD'\n",
    "\n",
    "\n",
    "import os\n",
    "from typing import List\n",
    "from dynaconf.base import Settings\n",
    "from dynaconf import Dynaconf, Validator\n",
    "\n",
    "\n",
    "ENV = check_cml_env()\n",
    "ENV_VARS_SECTION = 'env_variables'\n",
    "YAML_PATH_MAPPING = {\n",
    "    'UAT': '../config/uat.yaml',\n",
    "    'PROD': '../config/prod.yaml',\n",
    "    'PREPROD': '../config/preprod.yaml',\n",
    "    'NO_CML': '../config/no_cml.yaml'\n",
    "}\n",
    "\n",
    "class Config(Dynaconf):\n",
    "\n",
    "    def __init__(self, \n",
    "                 config_yaml_path: str = None, \n",
    "                 load_env_vars: bool = True,\n",
    "                 validators: List[Validator] = None,\n",
    "                 ):\n",
    "        if config_yaml_path is None:\n",
    "            config_yaml_path = YAML_PATH_MAPPING.get(ENV)\n",
    "        # TODO: Add in validators for certain sections in the config yaml that we think should always be there\n",
    "        super().__init__(settings_file = config_yaml_path, validators = validators)\n",
    "        \n",
    "        self.CONFIG_YAML_PATH = config_yaml_path\n",
    "\n",
    "        if load_env_vars:\n",
    "            self.set_env_vars()\n",
    "\n",
    "    def set_env_vars(self):\n",
    "        env_variables = getattr(self, ENV_VARS_SECTION, None)\n",
    "        if env_variables is None:\n",
    "            warnings.warn(\n",
    "                f'Skip the setting of environment variables as {ENV_VARS_SECTION} section is not found in {self.CONFIG_YAML_PATH}.'\n",
    "            )\n",
    "            return\n",
    "\n",
    "        for key, value in env_variables.items():\n",
    "            os.environ[key] = str(value)\n",
    "\n",
    "    def as_dict(self, env = None, internal = False):\n",
    "        data = Settings.as_dict(self, env = env, internal = internal)\n",
    "        data.pop('CONFIG_YAML_PATH', None)\n",
    "        return data\n",
    "\n",
    "    to_dict = as_dict\n",
    "        \n",
    "    # TODO: Method to write to file each time an attribute value changes/is set\n",
    "    # TODO: monkeypatch YAML loader in dynaconf loaders so that it uses ruamel yaml which lets us preserve comments and order\n",
    "    # TODO: Fix the uppercase issue where dynaconf will uppercase all the attributes"
   ]
  },
  {
   "cell_type": "code",
   "execution_count": 3,
   "metadata": {},
   "outputs": [],
   "source": [
    "config = Config()"
   ]
  },
  {
   "cell_type": "code",
   "execution_count": 7,
   "metadata": {},
   "outputs": [],
   "source": [
    "from dynaconf import loaders\n",
    "from dynaconf.loaders import yaml_loader\n",
    "\n",
    "loaders.write('../config/preprod.yaml', config.as_dict())"
   ]
  }
 ],
 "metadata": {
  "kernelspec": {
   "display_name": "config",
   "language": "python",
   "name": "python3"
  },
  "language_info": {
   "codemirror_mode": {
    "name": "ipython",
    "version": 3
   },
   "file_extension": ".py",
   "mimetype": "text/x-python",
   "name": "python",
   "nbconvert_exporter": "python",
   "pygments_lexer": "ipython3",
   "version": "3.7.16"
  },
  "orig_nbformat": 4
 },
 "nbformat": 4,
 "nbformat_minor": 2
}
