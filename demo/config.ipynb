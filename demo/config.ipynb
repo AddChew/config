{
 "cells": [
  {
   "cell_type": "code",
   "execution_count": 1,
   "metadata": {},
   "outputs": [],
   "source": [
    "import sys\n",
    "\n",
    "sys.path.append('../src')"
   ]
  },
  {
   "cell_type": "code",
   "execution_count": 1,
   "metadata": {},
   "outputs": [],
   "source": [
    "def check_cml_env():\n",
    "    return 'PREPROD'\n",
    "\n",
    "\n",
    "import os\n",
    "import warnings\n",
    "from typing import List, Union\n",
    "from ruyaml import YAML\n",
    "from pathlib import Path\n",
    "from dynaconf.utils import object_merge\n",
    "from dynaconf import Dynaconf, Validator\n",
    "from dynaconf.utils.boxing import DynaBox\n",
    "\n",
    "\n",
    "ENCODING = 'utf-8'\n",
    "ENV = check_cml_env()\n",
    "ENV_VARS_SECTION = 'env_variables'\n",
    "YAML_PATH_MAPPING = {\n",
    "    'UAT': '../config/uat.yaml',\n",
    "    'PROD': '../config/prod.yaml',\n",
    "    'PREPROD': '../config/preprod.yaml',\n",
    "    'NO_CML': '../config/no_cml.yaml'\n",
    "}\n",
    "\n",
    "\n",
    "class Config(Dynaconf):\n",
    "    ALLOWED_EXTENSIONS = ['.yaml', '.yml']\n",
    "\n",
    "    def __init__(self, \n",
    "                 settings_file: str = None, \n",
    "                 load_env_vars: bool = True,\n",
    "                 validators: List[Validator] = None,\n",
    "                 env_vars_key: str = ENV_VARS_SECTION,\n",
    "                 apply_default_on_none: bool = True,\n",
    "                 validate_on_update: Union[bool, str] = False, \n",
    "                 ):\n",
    "        if settings_file is None:\n",
    "            settings_file = YAML_PATH_MAPPING.get(ENV)\n",
    "\n",
    "        self.validate_extension(settings_file)\n",
    "\n",
    "        # TODO: Add in validators for certain sections in the config yaml that we think should always be there\n",
    "        super().__init__(\n",
    "            settings_file = settings_file, \n",
    "            validators = validators,\n",
    "            apply_default_on_none = apply_default_on_none,\n",
    "            core_loaders = ['YAML'],\n",
    "            loaders = [], # TODO: replace with custom YAML loader that preserves comments\n",
    "            validate_on_update = validate_on_update,\n",
    "        )\n",
    "        \n",
    "        if load_env_vars:\n",
    "            self.set_env_vars(env_vars_key)\n",
    "\n",
    "    def validate_extension(self, filepath: str):\n",
    "        _, ext = os.path.splitext(filepath)\n",
    "        if ext not in self.ALLOWED_EXTENSIONS:\n",
    "            raise NotImplementedError(f'File type not supported for reading: {ext}')\n",
    "        \n",
    "    def set_env_vars(self, env_vars_key: str = ENV_VARS_SECTION):\n",
    "        env_variables = getattr(self, env_vars_key, None)\n",
    "        if env_variables is None:\n",
    "            warnings.warn(\n",
    "                f'Skip the setting of environment variables as {env_vars_key} section is not found in {self.settings_file}'\n",
    "            )\n",
    "            return\n",
    "\n",
    "        for key, value in env_variables.items():\n",
    "            os.environ[key] = str(value)\n",
    "\n",
    "    def reload(self, settings_module = None, **kwargs):\n",
    "        super().configure(settings_module, **kwargs)\n",
    "\n",
    "    def to_yaml(self, filepath: str = None):\n",
    "        if filepath is None:\n",
    "            filepath = self.settings_file\n",
    "\n",
    "        self.validate_extension(filepath)\n",
    "        data = DynaBox(self._wrapped.as_dict(), box_settings = {}).to_dict()\n",
    "        # if Path(filepath).exists():\n",
    "        #     with open(filepath, encoding = ENCODING) as f:\n",
    "        #         object_merge(YAML().load(f), data)\n",
    "        \n",
    "        with open(filepath, 'wb') as f:\n",
    "            YAML().dump(data, f)\n",
    "\n",
    "    # TODO: monkeypatch YAML loader in dynaconf loaders so that it uses ruamel yaml which lets us preserve comments and order\n",
    "    # TODO: monkeypatch YAML loader such that it allows us to read from HDFS also (low priority)\n",
    "\n",
    "    # TODO: reload and write to file should be user managed rather than by config as it is expensive to reload and write to file each time we update an attribute\n",
    "    # TODO: Fix the uppercase issue where dynaconf will uppercase all the first level attributes (known limitation that will be fixed in 4.0.0, live with it for now)\n",
    "    # TODO: known limitations, first level have to be uppercase"
   ]
  },
  {
   "cell_type": "code",
   "execution_count": 2,
   "metadata": {},
   "outputs": [],
   "source": [
    "config = Config(validators = [Validator('ENV_VARIABLES', must_exist = True)])"
   ]
  },
  {
   "cell_type": "code",
   "execution_count": 45,
   "metadata": {},
   "outputs": [
    {
     "data": {
      "text/plain": [
       "{'CREDENTIALS': {'lan_id': 'a5123456',\n",
       "  'path': '/user/a5123456/credentials.pwd'},\n",
       " 'ENV_VARIABLES': {'test_env_variable': 1},\n",
       " 'EXTRA': None}"
      ]
     },
     "execution_count": 45,
     "metadata": {},
     "output_type": "execute_result"
    }
   ],
   "source": [
    "config.as_dict()"
   ]
  },
  {
   "cell_type": "code",
   "execution_count": 37,
   "metadata": {},
   "outputs": [],
   "source": [
    "config.to_yaml()"
   ]
  },
  {
   "cell_type": "code",
   "execution_count": 4,
   "metadata": {},
   "outputs": [],
   "source": [
    "config.reload()"
   ]
  },
  {
   "cell_type": "code",
   "execution_count": 5,
   "metadata": {},
   "outputs": [
    {
     "data": {
      "text/plain": [
       "{'CREDENTIALS': {'lan_id': 'a5123456',\n",
       "  'path': '/user/a5123456/credentials.pwd'},\n",
       " 'ENV_VARIABLES': {'test_env_variable': 1}}"
      ]
     },
     "execution_count": 5,
     "metadata": {},
     "output_type": "execute_result"
    }
   ],
   "source": [
    "config.as_dict()"
   ]
  },
  {
   "cell_type": "code",
   "execution_count": 276,
   "metadata": {},
   "outputs": [],
   "source": [
    "config.set('bye', 1)"
   ]
  },
  {
   "cell_type": "code",
   "execution_count": 280,
   "metadata": {},
   "outputs": [],
   "source": [
    "config.update({'bye': 3})"
   ]
  },
  {
   "cell_type": "code",
   "execution_count": 281,
   "metadata": {},
   "outputs": [],
   "source": [
    "config.bye = 2"
   ]
  },
  {
   "cell_type": "code",
   "execution_count": 283,
   "metadata": {},
   "outputs": [
    {
     "data": {
      "text/plain": [
       "{'ENV_VARS_KEY': 'env_variables',\n",
       " 'CREDENTIALS': {'lan_id': 'a5123456',\n",
       "  'path': '/user/a5123456/credentials.pwd'},\n",
       " 'ENV_VARIABLES': {'test_env_variable': 1},\n",
       " 'BYE': 4}"
      ]
     },
     "execution_count": 283,
     "metadata": {},
     "output_type": "execute_result"
    }
   ],
   "source": [
    "config.as_dict()"
   ]
  },
  {
   "cell_type": "code",
   "execution_count": 282,
   "metadata": {},
   "outputs": [],
   "source": [
    "config['bye'] = 4"
   ]
  },
  {
   "cell_type": "code",
   "execution_count": 7,
   "metadata": {},
   "outputs": [],
   "source": [
    "from dynaconf import loaders\n",
    "from dynaconf.loaders import yaml_loader\n",
    "\n",
    "loaders.write('../config/preprod.yaml', config.as_dict())"
   ]
  },
  {
   "cell_type": "code",
   "execution_count": 6,
   "metadata": {},
   "outputs": [],
   "source": [
    "from ruyaml import YAML\n",
    "\n",
    "with open('../config/preprod.yaml', encoding = 'utf-8') as f:\n",
    "    test = YAML().load(f)"
   ]
  },
  {
   "cell_type": "code",
   "execution_count": 47,
   "metadata": {},
   "outputs": [],
   "source": [
    "test['extra'] ='extra'"
   ]
  },
  {
   "cell_type": "code",
   "execution_count": 48,
   "metadata": {},
   "outputs": [
    {
     "data": {
      "text/plain": [
       "ordereddict([('CREDENTIALS', ordereddict([('lan_id', 'a5123456'), ('path', '/user/a5123456/credentials.pwd')])), ('ENV_VARIABLES', ordereddict([('test_env_variable', 1)])), ('extra', 'extra')])"
      ]
     },
     "execution_count": 48,
     "metadata": {},
     "output_type": "execute_result"
    }
   ],
   "source": [
    "test"
   ]
  },
  {
   "cell_type": "code",
   "execution_count": 49,
   "metadata": {},
   "outputs": [],
   "source": [
    "with open('../config/preprod.yaml', 'wb') as f:\n",
    "    YAML().dump(test, f)"
   ]
  },
  {
   "cell_type": "code",
   "execution_count": 51,
   "metadata": {},
   "outputs": [
    {
     "data": {
      "text/plain": [
       "<Box: {'lan_id': 'a5123456', 'path': '/user/a5123456/credentials.pwd'}>"
      ]
     },
     "execution_count": 51,
     "metadata": {},
     "output_type": "execute_result"
    }
   ],
   "source": [
    "config.credentials.lan_id"
   ]
  }
 ],
 "metadata": {
  "kernelspec": {
   "display_name": "config",
   "language": "python",
   "name": "python3"
  },
  "language_info": {
   "codemirror_mode": {
    "name": "ipython",
    "version": 3
   },
   "file_extension": ".py",
   "mimetype": "text/x-python",
   "name": "python",
   "nbconvert_exporter": "python",
   "pygments_lexer": "ipython3",
   "version": "3.7.16"
  },
  "orig_nbformat": 4,
  "vscode": {
   "interpreter": {
    "hash": "e7116d300b07633f3a0bbea7ddd2ea2436274702eb685334f13c027341ac3b6d"
   }
  }
 },
 "nbformat": 4,
 "nbformat_minor": 2
}
