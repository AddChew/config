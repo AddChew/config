{
 "cells": [
  {
   "cell_type": "code",
   "execution_count": 1,
   "metadata": {},
   "outputs": [],
   "source": [
    "import sys\n",
    "\n",
    "sys.path.append('../src')\n",
    "\n",
    "from config import Config, Validator"
   ]
  },
  {
   "cell_type": "code",
   "execution_count": 3,
   "metadata": {},
   "outputs": [
    {
     "data": {
      "text/plain": [
       "{'CREDENTIALS': {'lan_id': 'a5123456',\n",
       "  'path': '/user/a5123456/credentials.pwd'},\n",
       " 'ENV_VARIABLES': {'test_env_variable': 1}}"
      ]
     },
     "execution_count": 3,
     "metadata": {},
     "output_type": "execute_result"
    }
   ],
   "source": [
    "# config = Config()\n",
    "config = Config(validators = [Validator('ENV_VARIABLES', must_exist = True)])\n",
    "config.as_dict()\n"
   ]
  },
  {
   "cell_type": "code",
   "execution_count": 4,
   "metadata": {},
   "outputs": [],
   "source": [
    "config.attr_var = 1\n",
    "config.set('set_var', 'set_var')\n",
    "config.update({'update_var': 3})\n",
    "config['setitem_var'] = 'setitem_var'\n",
    "config.credentials.lan_id = ['a5145432']\n",
    "config.credentials.path = '/user/a5123456/credentials.pwd'"
   ]
  },
  {
   "cell_type": "code",
   "execution_count": 5,
   "metadata": {},
   "outputs": [
    {
     "data": {
      "text/plain": [
       "{'CREDENTIALS': {'lan_id': ['a5145432'],\n",
       "  'path': '/user/a5123456/credentials.pwd'},\n",
       " 'ENV_VARIABLES': {'test_env_variable': 1},\n",
       " 'ATTR_VAR': 1,\n",
       " 'SET_VAR': 'set_var',\n",
       " 'UPDATE_VAR': 3,\n",
       " 'SETITEM_VAR': 'setitem_var'}"
      ]
     },
     "execution_count": 5,
     "metadata": {},
     "output_type": "execute_result"
    }
   ],
   "source": [
    "config.as_dict()"
   ]
  },
  {
   "cell_type": "code",
   "execution_count": 6,
   "metadata": {},
   "outputs": [],
   "source": [
    "config.to_yaml()"
   ]
  },
  {
   "cell_type": "code",
   "execution_count": 7,
   "metadata": {},
   "outputs": [],
   "source": [
    "config.reload()"
   ]
  },
  {
   "cell_type": "code",
   "execution_count": 8,
   "metadata": {},
   "outputs": [
    {
     "data": {
      "text/plain": [
       "{'CREDENTIALS': {'lan_id': 'a5123456',\n",
       "  'path': '/user/a5123456/credentials.pwd'},\n",
       " 'ENV_VARIABLES': {'test_env_variable': 1},\n",
       " 'DUMMY': 'dummy'}"
      ]
     },
     "execution_count": 8,
     "metadata": {},
     "output_type": "execute_result"
    }
   ],
   "source": [
    "config.as_dict()"
   ]
  }
 ],
 "metadata": {
  "kernelspec": {
   "display_name": "config",
   "language": "python",
   "name": "python3"
  },
  "language_info": {
   "codemirror_mode": {
    "name": "ipython",
    "version": 3
   },
   "file_extension": ".py",
   "mimetype": "text/x-python",
   "name": "python",
   "nbconvert_exporter": "python",
   "pygments_lexer": "ipython3",
   "version": "3.7.16"
  },
  "orig_nbformat": 4,
  "vscode": {
   "interpreter": {
    "hash": "e7116d300b07633f3a0bbea7ddd2ea2436274702eb685334f13c027341ac3b6d"
   }
  }
 },
 "nbformat": 4,
 "nbformat_minor": 2
}
